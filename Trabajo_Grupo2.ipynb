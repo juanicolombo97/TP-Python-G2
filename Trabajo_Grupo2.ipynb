{
  "nbformat": 4,
  "nbformat_minor": 0,
  "metadata": {
    "colab": {
      "name": "Trabajo-Grupo2.ipynb",
      "provenance": [],
      "collapsed_sections": [
        "fH_5MVQ5YB48",
        "im5SGDroYMzB",
        "5Nm4nalsdXsl",
        "NeqnQJQVdanl",
        "tp5WtUpASydg",
        "6Mq7dDTFTM5o",
        "-IlTLqlwYpIY",
        "5ogp-K-ldCXJ",
        "pcXsm6xyzEQX",
        "JvY0wpjd1oZO",
        "geG8S55F32oI",
        "3oMXZ2_iIbOG",
        "Ikv7vR2lOGgY",
        "MjgViklaRbdw",
        "CERhRQU3U1ae",
        "VOtdBbTkWVjy",
        "ZiLy5uOZZGbC",
        "feqM23rJd8ki",
        "ImScBWcr-IGA",
        "bzi5FSYQiaOe",
        "XCLk7R2H4EvJ",
        "6SaFQ53okGcO"
      ],
      "include_colab_link": true
    },
    "kernelspec": {
      "name": "python3",
      "display_name": "Python 3"
    }
  },
  "cells": [
    {
      "cell_type": "markdown",
      "metadata": {
        "id": "view-in-github",
        "colab_type": "text"
      },
      "source": [
        "<a href=\"https://colab.research.google.com/github/juanicolombo97/TP-Python-G2/blob/main/Trabajo_Grupo2.ipynb\" target=\"_parent\"><img src=\"https://colab.research.google.com/assets/colab-badge.svg\" alt=\"Open In Colab\"/></a>"
      ]
    },
    {
      "cell_type": "markdown",
      "metadata": {
        "id": "ld2vMlyxYCcz"
      },
      "source": [
        "# Trabajo Integrador Grupo 2"
      ]
    },
    {
      "cell_type": "markdown",
      "metadata": {
        "id": "fH_5MVQ5YB48"
      },
      "source": [
        "### Imports"
      ]
    },
    {
      "cell_type": "code",
      "metadata": {
        "id": "HUs8Rca9SPqk"
      },
      "source": [
        "import pandas as pd\r\n",
        "import datetime\r\n",
        "import numpy as np\r\n",
        "import matplotlib.pyplot as plt"
      ],
      "execution_count": 67,
      "outputs": []
    },
    {
      "cell_type": "markdown",
      "metadata": {
        "id": "im5SGDroYMzB"
      },
      "source": [
        "### Codigo"
      ]
    },
    {
      "cell_type": "markdown",
      "metadata": {
        "id": "5Nm4nalsdXsl"
      },
      "source": [
        "#### Clase Archivo"
      ]
    },
    {
      "cell_type": "code",
      "metadata": {
        "id": "aa4T6XujR21l"
      },
      "source": [
        "class Archivo:\r\n",
        "\r\n",
        "    # Clase que se encarga de manejar un archivo.\r\n",
        "  def __init__(self, link_archivo, separador):\r\n",
        "    self.link_archivo = link_archivo\r\n",
        "    self.separador = separador\r\n",
        "    self.archivo = None\r\n",
        "    self.archivo_leido = False\r\n",
        "    \r\n",
        "\r\n",
        "  def leer_archivo(self):\r\n",
        "    # Funcion que lee un archivo csv y lo almacena en la variable self.archivo como un dataframe.\r\n",
        "    try:\r\n",
        "      self.archivo = pd.read_csv(self.link_archivo, sep=self.separador)\r\n",
        "    except FileNotFoundError:\r\n",
        "      return 'El archivo no se encontro.' \r\n",
        "    else:\r\n",
        "      self.archivo_leido = True\r\n",
        "      return \"El archivo se abrio correctamente.\"\r\n",
        "\r\n",
        "  def obtener_dataframe(self):\r\n",
        "    # Devuelve el dataframe y si no lanza un error que no se leyo el archivo.\r\n",
        "    if self.archivo_leido:\r\n",
        "      return self.archivo\r\n",
        "    return 'No se encuentra un archivo leido.'\r\n",
        "\r\n"
      ],
      "execution_count": 68,
      "outputs": []
    },
    {
      "cell_type": "markdown",
      "metadata": {
        "id": "NeqnQJQVdanl"
      },
      "source": [
        "#### Clase ManejoDataFrames"
      ]
    },
    {
      "cell_type": "code",
      "metadata": {
        "id": "c8vj6v4odc2Q"
      },
      "source": [
        "class ManejoDataFrame:\r\n",
        "  \r\n",
        "  # Clase que recive en el constructor una lista de archivos y los une.\r\n",
        "  def __init__(self):\r\n",
        "    pass\r\n",
        "\r\n",
        "  def concatenar_dataframes(self, lista_archivos):\r\n",
        "    return pd.concat(lista_archivos)\r\n",
        "\r\n",
        "  def filtrar_dataframe(self, dataframe,  lista_columnas):\r\n",
        "    return dataframe[lista_columnas]\r\n",
        "\r\n",
        "  def filtrado_formato_largo(self, dataframe, lista_vars, nombre_variable, valor_nombre):\r\n",
        "    return dataframe.melt(id_vars=lista_vars, var_name=nombre_variable, value_name=valor_nombre)\r\n",
        "\r\n",
        "  def convercion_datetime(self, dataframe):\r\n",
        "    dataframe['DIA'] = dataframe['DIA'].str.strip('D')\r\n",
        "    dataframe['FECHA'] = dataframe['DIA'].astype(str) + '/' + dataframe['MES'].astype(str) + '/' + dataframe['ANO'].astype(str)\r\n",
        "    dataframe['FECHA'] = pd.to_datetime(dataframe['FECHA'], format=\"%d/%m/%Y\", errors='coerce')\r\n",
        "    return dataframe\r\n",
        "\r\n",
        "  def eliminar_datos_invalidos(self, dataframe, columna):\r\n",
        "    return dataframe.drop(dataframe[np.isnat(dataframe[columna])].index, inplace=False)\r\n",
        "\r\n",
        "  def ordenar_dataframe(self, dataframe,  lista_columnas):\r\n",
        "    return dataframe.sort_values(lista_columnas)\r\n",
        "\r\n",
        "  def obtener_valores_columna(self, dataframe, columna):\r\n",
        "    return dataframe[columna].unique()\r\n",
        "\r\n",
        "  def obtener_descripcion(self, dataframe, columna):\r\n",
        "    return dataframe.groupby(columna).CONTAMINANTE.describe()\r\n",
        "\r\n",
        "  def obtener_info_pedida(self, dataframe, magnitud, estacion):\r\n",
        "    return dataframe[(dataframe['ESTACION'] == estacion) & (dataframe['MAGNITUD'] == magnitud)].CONTAMINANTE.describe()\r\n",
        "\r\n",
        "  def mediciones_segun_estacion(self, dataframe, estacion, magnitud):\r\n",
        "    lista_mediciones_estacion = []\r\n",
        "    df_modificado = dataframe[(dataframe['ESTACION'] == estacion) & (dataframe['MAGNITUD'] == magnitud)]\r\n",
        "    for medicion in df_modificado['CONTAMINANTE']:\r\n",
        "      lista_mediciones_estacion.append(medicion)\r\n",
        "    return lista_mediciones_estacion\r\n"
      ],
      "execution_count": 69,
      "outputs": []
    },
    {
      "cell_type": "markdown",
      "metadata": {
        "id": "tp5WtUpASydg"
      },
      "source": [
        "#### Clase Contaminante"
      ]
    },
    {
      "cell_type": "code",
      "metadata": {
        "id": "QefBFUAnS1La"
      },
      "source": [
        "class Contaminante:\r\n",
        "  def __init__(self, diccionario):\r\n",
        "    self.diccionario = diccionario\r\n",
        "\r\n",
        "  def mostrar_contaminantes(self, lista_codigo):\r\n",
        "    print(\"\\nLos contaminantes son: \")\r\n",
        "    for contaminante in lista_codigo:\r\n",
        "      if contaminante in self.diccionario:\r\n",
        "        print(self.diccionario[contaminante])"
      ],
      "execution_count": 70,
      "outputs": []
    },
    {
      "cell_type": "markdown",
      "metadata": {
        "id": "6Mq7dDTFTM5o"
      },
      "source": [
        "#### Clase Estacion"
      ]
    },
    {
      "cell_type": "code",
      "metadata": {
        "id": "Xk80s2Z4TQzM"
      },
      "source": [
        "class Estacion:\r\n",
        "  def __init__(self, diccionario):\r\n",
        "    self.diccionario = diccionario\r\n",
        "\r\n",
        "  def mostrar_estaciones(self, lista_codigo):\r\n",
        "    print(\"\\nLas estaciones son: \")\r\n",
        "    for estacion in lista_codigo:\r\n",
        "      if estacion in self.diccionario:\r\n",
        "        print(self.diccionario[estacion])"
      ],
      "execution_count": 71,
      "outputs": []
    },
    {
      "cell_type": "markdown",
      "metadata": {
        "id": "-IlTLqlwYpIY"
      },
      "source": [
        "### Soluciones Ejercicios"
      ]
    },
    {
      "cell_type": "markdown",
      "metadata": {
        "id": "5ogp-K-ldCXJ"
      },
      "source": [
        "#### Ejercicio 1\r\n",
        "Generar un DataFrame con los datos de los cuatro ficheros."
      ]
    },
    {
      "cell_type": "code",
      "metadata": {
        "id": "ojFfHqJCYukW"
      },
      "source": [
        "def ejercicio_1():\r\n",
        "  \r\n",
        "  # Archivo 1\r\n",
        "  archivo1 = Archivo(\"https://drive.google.com/u/0/uc?id=1Ms2r2k6DscmL7ymRZp6bXk3Z-RWsqtjz&export=download\", ';')\r\n",
        "  archivo1.leer_archivo()\r\n",
        "  # Archivo 2\r\n",
        "  archivo2 = Archivo(\"https://drive.google.com/u/0/uc?id=1R5JLin8d2BhHFKSQhX2hP2bGPRCvR8Xj&export=download\", ';')\r\n",
        "  archivo2.leer_archivo()\r\n",
        "  # Archivo 3\r\n",
        "  archivo3 = Archivo(\"https://drive.google.com/u/0/uc?id=1qoB3OcPDUkerswT02uAvLshTT7J0qTWQ&export=download\", ';')\r\n",
        "  archivo3.leer_archivo()\r\n",
        "  # Archivo 4\r\n",
        "  archivo4 = Archivo(\"https://drive.google.com/u/0/uc?id=1pAbH8EwHm9KkUzyiy56auH0DvLT_DkAO&export=download\", ';')\r\n",
        "  archivo4.leer_archivo()\r\n",
        "\r\n",
        "  manejo_df = ManejoDataFrame()\r\n",
        "  return manejo_df.concatenar_dataframes([archivo1.obtener_dataframe(), archivo2.obtener_dataframe(), archivo3.obtener_dataframe(), archivo4.obtener_dataframe()]), manejo_df"
      ],
      "execution_count": 72,
      "outputs": []
    },
    {
      "cell_type": "markdown",
      "metadata": {
        "id": "pcXsm6xyzEQX"
      },
      "source": [
        "#### Ejercicio 2\r\n",
        "Filtrar las columnas del DataFrame para quedarse con las columnas ESTACION, MAGNITUD, ANO, MES y las correspondientes a los dias D01, D02, etc."
      ]
    },
    {
      "cell_type": "code",
      "metadata": {
        "id": "kqwd5TptzFnU"
      },
      "source": [
        "def ejercicio_2():\r\n",
        "  dataframe, manejo_df = ejercicio_1()\r\n",
        "  lista_cols = ['ESTACION','MAGNITUD','ANO', 'MES']\r\n",
        "  for col in dataframe:\r\n",
        "    if col[0] == 'D':\r\n",
        "      lista_cols.append(col)\r\n",
        "\r\n",
        "  return manejo_df.filtrar_dataframe(dataframe, lista_cols), manejo_df\r\n",
        "  "
      ],
      "execution_count": 73,
      "outputs": []
    },
    {
      "cell_type": "markdown",
      "metadata": {
        "id": "JvY0wpjd1oZO"
      },
      "source": [
        "#### Ejercicio 3\r\n",
        "Reestructurar el DataFrame para que los valores de los contaminantes de las columnas de los dias aparezcan en una unica columna."
      ]
    },
    {
      "cell_type": "code",
      "metadata": {
        "id": "Wsmf-zi71qOe"
      },
      "source": [
        "def ejercicio_3():\r\n",
        "  dataframe, manejo_df = ejercicio_2() \r\n",
        "  return manejo_df.filtrado_formato_largo(dataframe, ['ESTACION','MAGNITUD','ANO', 'MES'], 'DIA', 'CONTAMINANTE'), manejo_df\r\n",
        "  "
      ],
      "execution_count": 74,
      "outputs": []
    },
    {
      "cell_type": "markdown",
      "metadata": {
        "id": "geG8S55F32oI"
      },
      "source": [
        "#### Ejercicio 4\r\n",
        "Anadir una columna con la fecha apartir de la concatenacion del ano, el mes y el dia.(usar el modulo datetime)."
      ]
    },
    {
      "cell_type": "code",
      "metadata": {
        "id": "3wzuBZ0A3aWr"
      },
      "source": [
        "def ejercicio_4():\r\n",
        "  dataframe, manejo_df = ejercicio_3()\r\n",
        "  return manejo_df.convercion_datetime(dataframe), manejo_df"
      ],
      "execution_count": 75,
      "outputs": []
    },
    {
      "cell_type": "markdown",
      "metadata": {
        "id": "3oMXZ2_iIbOG"
      },
      "source": [
        "#### Ejercicio 5\r\n",
        "Eliminamos filas con fechas no validas(utilizar la funcion isnat del modulo numpy) y ordenar el DataFrame por estaciones, containantes y fecha."
      ]
    },
    {
      "cell_type": "code",
      "metadata": {
        "id": "43OvZ004Ico4"
      },
      "source": [
        "def ejercicio_5():\r\n",
        "  dataframe, manejo_df =  ejercicio_4()\r\n",
        "  dataframe = manejo_df.eliminar_datos_invalidos(dataframe, 'FECHA')\r\n",
        "  return manejo_df.ordenar_dataframe(dataframe, ['ESTACION', 'CONTAMINANTE', 'FECHA']), manejo_df\r\n",
        "  "
      ],
      "execution_count": 76,
      "outputs": []
    },
    {
      "cell_type": "markdown",
      "metadata": {
        "id": "Ikv7vR2lOGgY"
      },
      "source": [
        "#### Ejercicio 6\r\n",
        "Mostrar por pantalla las estaciones y los contaminantes disponibles en el DataFrame."
      ]
    },
    {
      "cell_type": "code",
      "metadata": {
        "id": "WmTKMBwVOI0U"
      },
      "source": [
        "def ejercicio_6():\r\n",
        "  dataframe, manejo_df = ejercicio_5()\r\n",
        "  lista_contaminantes = manejo_df.obtener_valores_columna(dataframe, 'MAGNITUD')\r\n",
        "  dicc = {1: \"Dióxido de azufredo\",5:\"Monóxido de carbono\",7:\"Monóxido de nitrógeno\",8:\"Dióxido de nitrógeno\",9:\"particulas <2.5um\",10:\"Partículas<10um\",12:\"Óxidos de nitrógeno\",14:\"Ozono\",20:\"Tolueno\",30:\"Benceno\",\r\n",
        "          35:\"Etilbenceno\",37:\"Metaxileno\",38:\"paraxileno\",39:\"Ortoxileno\",42:\"Hidrocarburos Totales(hexano)\",43:\"Metano\",44:\"Hidrocarburosno metánicos(hexano)\"}\r\n",
        "  contaminantes = Contaminante(dicc)\r\n",
        "  contaminantes.mostrar_contaminantes(lista_contaminantes)\r\n",
        "\r\n",
        "  lista_estaciones = manejo_df.obtener_valores_columna(dataframe, 'ESTACION')\r\n",
        "  datos2={1:\"P°.recoletos\",2:\"Glta de Carlos V\",35:\"Pza del Carmen\",4:\"Pza de España\",39:\"Barrio del Pilar\",6:\"Pza dr Marañon\",7:\"Pza M. de Salamanca\",8:\"Escuelas Aguirre\",9:\"Pza Luca de Tena\",38:\"Cuatro caminos\",\r\n",
        "          11:\"Av Ramón y Cajal\",12:\"Pza Manuel Becerra\",40:\"Vallecas\",14:\"Pza Fdez Ladreda\",15:\"Pza Castilla\",16:\"Arturo Soria\",17:\"Villaverde alto\",18: \"calle farolillo\",19:\"Huerta Castañeda\",36:\"Moratalaz\",\r\n",
        "          21:\"Pza Cristo Rey\",22:\"P° Pontones\",23:\"Final c/alcala\",24:\"Casa de Campo\",25:\"Santa Eugenia\",26:\"Urb Embajada(Barajas)\",27:\"Barajas\",47:\"Mendez Alvaro\",48:\"P° Castellana\",49:\"Retiro\",50:\"Pza Castillana\",\r\n",
        "          54:\"Ensanche Vallecas\",55:\"Urb Embajada(Barajas)\",56:\"Pza Elíptica\",57:\"Sanchinarro\",58: \"El pardo\",59:\"Padre Juan Carlos I\",60:\"Tres Olivos\"}\r\n",
        "  estaciones = Estacion(datos2)\r\n",
        "  estaciones.mostrar_estaciones(lista_estaciones)"
      ],
      "execution_count": 77,
      "outputs": []
    },
    {
      "cell_type": "markdown",
      "metadata": {
        "id": "MjgViklaRbdw"
      },
      "source": [
        "#### Ejercicio 7\r\n",
        "Mostrar un resumen descriptivo (minimo, maximo, media, etc) para cada contaminante."
      ]
    },
    {
      "cell_type": "code",
      "metadata": {
        "id": "K2rz4lOPRdq5"
      },
      "source": [
        "def ejercicio_7():\r\n",
        "  dataframe, manejo_df = ejercicio_5()\r\n",
        "  return manejo_df.obtener_descripcion(dataframe, 'MAGNITUD')\r\n",
        "  "
      ],
      "execution_count": 78,
      "outputs": []
    },
    {
      "cell_type": "markdown",
      "metadata": {
        "id": "CERhRQU3U1ae"
      },
      "source": [
        "#### Ejercicio 8\r\n",
        "Mostrar un resumen descriptivo por cada contaminante por distritos."
      ]
    },
    {
      "cell_type": "code",
      "metadata": {
        "id": "kRstzucNU3sU"
      },
      "source": [
        "def ejercicio_8():\r\n",
        "  dataframe, manejo_df = ejercicio_5()\r\n",
        "  return manejo_df.obtener_descripcion(dataframe, ['MAGNITUD','ESTACION'])\r\n",
        "  "
      ],
      "execution_count": 79,
      "outputs": []
    },
    {
      "cell_type": "markdown",
      "metadata": {
        "id": "VOtdBbTkWVjy"
      },
      "source": [
        "#### Ejercicio 9 \r\n",
        "Crear una funcion que reciba una estacion y un contaminante y devuelva un resumen descriptivo de las emisiones del contaminante indicando en  la estacion indicada."
      ]
    },
    {
      "cell_type": "code",
      "metadata": {
        "id": "M8EFcCSqWpge"
      },
      "source": [
        "def ejercicio_9():\r\n",
        "  dataframe, manejo_df = ejercicio_5()\r\n",
        "  return manejo_df.obtener_info_pedida(dataframe, 7, 4)"
      ],
      "execution_count": 80,
      "outputs": []
    },
    {
      "cell_type": "markdown",
      "metadata": {
        "id": "ZiLy5uOZZGbC"
      },
      "source": [
        "#### Ejercicio 10\r\n",
        "Crear una funcion que reciba una estacion de medicion y una magnitud y devuelva una lista con todas las mediciones de la magnitud en la estacion."
      ]
    },
    {
      "cell_type": "code",
      "metadata": {
        "id": "qXAZ43rTZNmU"
      },
      "source": [
        "def ejercicio_10():\r\n",
        "  dataframe, manejo_df = ejercicio_5()\r\n",
        "  return manejo_df.mediciones_segun_estacion(dataframe, 4, 7)"
      ],
      "execution_count": 81,
      "outputs": []
    },
    {
      "cell_type": "markdown",
      "metadata": {
        "id": "feqM23rJd8ki"
      },
      "source": [
        "#### Ejercicio 11\r\n",
        "Crear una funcion que reciba un rango de fechas y una estacion de medicion y genere un grafico con la evolucion deiaria de las magnitudes de esa estacion en las fechas indicadas."
      ]
    },
    {
      "cell_type": "code",
      "metadata": {
        "id": "T0O78olOd-pn"
      },
      "source": [
        "def ejercicio_11():\r\n",
        "  pass"
      ],
      "execution_count": 82,
      "outputs": []
    },
    {
      "cell_type": "markdown",
      "metadata": {
        "id": "ImScBWcr-IGA"
      },
      "source": [
        "#### Ejercicio 12\r\n",
        "Crear una funcion que reciba un mes y una magnitud y devuelva un diciconario con las medidas de la magnitud dentro de Madrid Central y fuera de ella."
      ]
    },
    {
      "cell_type": "code",
      "metadata": {
        "id": "jMGfEaXs-RTA"
      },
      "source": [
        "def ejercicio_12():\r\n",
        "  pass"
      ],
      "execution_count": 83,
      "outputs": []
    },
    {
      "cell_type": "markdown",
      "metadata": {
        "id": "Cq_OUPUphaJm"
      },
      "source": [
        "### Programa"
      ]
    },
    {
      "cell_type": "markdown",
      "metadata": {
        "id": "bzi5FSYQiaOe"
      },
      "source": [
        "#### Informacion"
      ]
    },
    {
      "cell_type": "code",
      "metadata": {
        "id": "ASO6kfWIiYmn"
      },
      "source": [
        "def info():\r\n",
        "  print('Informacion sobre el Trabajo:')\r\n",
        "  print('\\nIntro: ')\r\n",
        "  print('El trabajo cuenta en realizar una serie de pasos sobre 4 archivos csv, que contienen las emisiones de distintas estaciones de Madrid.')\r\n",
        "  print('\\nTecnologias usadas: ')\r\n",
        "  print('En este trabajo se uso Python y en particular algunas librerias de este como por ejemplo: ')\r\n",
        "  print('1- Pandas.\\n2- Datetime.\\n3- Numpy.\\n4- Matplotlib.')\r\n",
        "  print('\\nParadigma usado: ')\r\n",
        "  print('Tambien el trabajo consistio en implementar el codigo usando el paradigma de la programacion orientada a objetos, conocida como POO.')"
      ],
      "execution_count": 84,
      "outputs": []
    },
    {
      "cell_type": "markdown",
      "metadata": {
        "id": "XCLk7R2H4EvJ"
      },
      "source": [
        "#### Manejo Input Usuario"
      ]
    },
    {
      "cell_type": "code",
      "metadata": {
        "id": "YUJnW8_r4Ise"
      },
      "source": [
        "def manejo_input_usuario():\r\n",
        "  ingreso = input('Ingrese un numero entre 1-12 para ver el respectivo ejercicio, info o salir para terminar: ')\r\n",
        "  if ingreso == 'salir':\r\n",
        "    print('Adios.')\r\n",
        "    return False\r\n",
        "  if  ingreso == 'info':\r\n",
        "    info()\r\n",
        "  elif ingreso == '1':\r\n",
        "    print('\\nGeneramos un DataFrame apartir de los 4 archivos obtenidos.\\n')\r\n",
        "    df, manejo = ejercicio_1()\r\n",
        "    print(df)\r\n",
        "  elif ingreso == '2':\r\n",
        "    print('\\nFiltrado del DataFrame por [\"ESTACION','MAGNITUD','ANO', 'MES\"] y dias.\\n')\r\n",
        "    df, manejo = ejercicio_2()\r\n",
        "    print(df)\r\n",
        "  elif ingreso == '3':\r\n",
        "    print('\\n Reestructuramos DataFrame para que los valores de contaminantes esten en una unica columna.\\n')\r\n",
        "    df, manejo = ejercicio_3()\r\n",
        "    print(df)\r\n",
        "  elif ingreso == '4':\r\n",
        "    print('\\nAgregamos la columna fecha al archivo.\\n')\r\n",
        "    df, manejo = ejercicio_4()\r\n",
        "    print(df)\r\n",
        "  elif ingreso == '5':\r\n",
        "    print('\\nEliminamos las filas que contienen fechas invalidas del DataFrame.\\n')\r\n",
        "    df, manejo = ejercicio_5()\r\n",
        "    print(df)\r\n",
        "  elif ingreso == '6':\r\n",
        "    print('\\nMostramos las Estaciones y Contaminantes del dataframe.\\n')\r\n",
        "    ejercicio_6()\r\n",
        "  elif ingreso == '7':\r\n",
        "    print('\\nMostramos un resumen descriptivo por cada contaminante.\\n')\r\n",
        "    print(ejercicio_7())\r\n",
        "  elif ingreso == '8':\r\n",
        "    print('\\nMostramos un resumen descriptivo para cada contaminante por distrito.\\n')\r\n",
        "    print(ejercicio_8())\r\n",
        "  elif ingreso == '9':\r\n",
        "    print('\\nResumen descriptivo de las emisiones del contaminante segun estacion.\\n')\r\n",
        "    print(ejercicio_9())\r\n",
        "  elif ingreso == '10':\r\n",
        "    print('\\nLista con mediciones de magnitud segun la estacion recibida. Mostramos solo 10.\\n')\r\n",
        "    print(ejercicio_10()[-10:])\r\n",
        "  elif ingreso == '11':\r\n",
        "    print('\\nGrafico con la evolucion diaria de las magnitudes de la estacion en las fechas indicadas.\\n')\r\n",
        "    print(ejercicio_11())\r\n",
        "  elif ingreso == '12':\r\n",
        "    print('\\nDiccionario con las medidas de la magnitud dentro de Madrid Central y fuera de ella.')\r\n",
        "    print(ejercicio_12())\r\n",
        "  else:\r\n",
        "    print('Invalido')\r\n"
      ],
      "execution_count": 85,
      "outputs": []
    },
    {
      "cell_type": "markdown",
      "metadata": {
        "id": "6SaFQ53okGcO"
      },
      "source": [
        "#### Main"
      ]
    },
    {
      "cell_type": "code",
      "metadata": {
        "id": "ijQbRONghcPu",
        "colab": {
          "base_uri": "https://localhost:8080/"
        },
        "outputId": "2f05e042-ab7c-478a-f809-1d31b63047a1"
      },
      "source": [
        "def main():\r\n",
        "  # Funcion que maneja los ingresos del usuario y  muestra los respectivos ejercicios resueltos, a  su ves como la informaciond el trabajo.\r\n",
        "  print('Bienvenido al Trabajo Integrador de Python del Grupo 2.')\r\n",
        "  programa = True\r\n",
        "  while programa != False:\r\n",
        "    programa = manejo_input_usuario()\r\n",
        "main()"
      ],
      "execution_count": 86,
      "outputs": [
        {
          "output_type": "stream",
          "text": [
            "Bienvenido al Trabajo Integrador de Python del Grupo 2.\n",
            "Ingrese un numero entre 1-12 para ver el respectivo ejercicio, info o salir para terminar: 1\n",
            "\n",
            "Generamos un DataFrame apartir de los 4 archivos obtenidos.\n",
            "\n",
            "      PROVINCIA  MUNICIPIO  ESTACION  MAGNITUD  ...    D30  V30   D31  V31\n",
            "0            28         79         4         1  ...    9.0    V   9.0    V\n",
            "1            28         79         4         1  ...    0.0    N   0.0    N\n",
            "2            28         79         4         1  ...   10.0    V   8.0    V\n",
            "3            28         79         4         1  ...    8.0    V   0.0    N\n",
            "4            28         79         4         1  ...    7.0    V   7.0    V\n",
            "...         ...        ...       ...       ...  ...    ...  ...   ...  ...\n",
            "1831         28         79        60        14  ...  108.0    V  98.0    V\n",
            "1832         28         79        60        14  ...   55.0    V   0.0    N\n",
            "1833         28         79        60        14  ...   19.0    V  47.0    V\n",
            "1834         28         79        60        14  ...   56.0    V   0.0    N\n",
            "1835         28         79        60        14  ...    5.0    V   4.0    V\n",
            "\n",
            "[7266 rows x 69 columns]\n",
            "Ingrese un numero entre 1-12 para ver el respectivo ejercicio, info o salir para terminar: salir\n",
            "Adios.\n"
          ],
          "name": "stdout"
        }
      ]
    }
  ]
}