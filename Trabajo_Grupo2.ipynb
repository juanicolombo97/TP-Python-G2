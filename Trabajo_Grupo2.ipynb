{
  "nbformat": 4,
  "nbformat_minor": 0,
  "metadata": {
    "colab": {
      "name": "Trabajo-Grupo2.ipynb",
      "provenance": [],
      "collapsed_sections": [
        "fH_5MVQ5YB48",
        "im5SGDroYMzB",
        "5Nm4nalsdXsl",
        "NeqnQJQVdanl",
        "difPGy7NXVRu",
        "8e38JLrPXaHv",
        "pL8Nxch9XpAC",
        "n7RipuHYX9AU",
        "uw2qaQSxZ_lS",
        "VDRpJiQ7btTG",
        "-IlTLqlwYpIY",
        "5ogp-K-ldCXJ"
      ],
      "authorship_tag": "ABX9TyPIJ/Ouxz3aPTTEUc1rnijk",
      "include_colab_link": true
    },
    "kernelspec": {
      "name": "python3",
      "display_name": "Python 3"
    }
  },
  "cells": [
    {
      "cell_type": "markdown",
      "metadata": {
        "id": "view-in-github",
        "colab_type": "text"
      },
      "source": [
        "<a href=\"https://colab.research.google.com/github/juanicolombo97/TP-Python-G2/blob/main/Trabajo_Grupo2.ipynb\" target=\"_parent\"><img src=\"https://colab.research.google.com/assets/colab-badge.svg\" alt=\"Open In Colab\"/></a>"
      ]
    },
    {
      "cell_type": "markdown",
      "metadata": {
        "id": "ld2vMlyxYCcz"
      },
      "source": [
        "# Trabajo Integrador Grupo 2"
      ]
    },
    {
      "cell_type": "markdown",
      "metadata": {
        "id": "fH_5MVQ5YB48"
      },
      "source": [
        "### Imports"
      ]
    },
    {
      "cell_type": "code",
      "metadata": {
        "id": "HUs8Rca9SPqk"
      },
      "source": [
        "# Imports\r\n",
        "import pandas as pd\r\n"
      ],
      "execution_count": null,
      "outputs": []
    },
    {
      "cell_type": "markdown",
      "metadata": {
        "id": "im5SGDroYMzB"
      },
      "source": [
        "### Codigo"
      ]
    },
    {
      "cell_type": "markdown",
      "metadata": {
        "id": "5Nm4nalsdXsl"
      },
      "source": [
        "#### Clase Archivo"
      ]
    },
    {
      "cell_type": "code",
      "metadata": {
        "id": "aa4T6XujR21l"
      },
      "source": [
        "class Archivo:\r\n",
        "\r\n",
        "    # Clase que se encarga de manejar un archivo.\r\n",
        "  def __init__(self, link_archivo):\r\n",
        "    self.link_archivo = link_archivo\r\n",
        "    self.archivo = None\r\n",
        "    self.archivo_leido = False\r\n",
        "\r\n",
        "  def leer_archivo(self):\r\n",
        "    # Funcion que lee un archivo csv y lo almacena en la variable self.archivo como un dataframe.\r\n",
        "    try:\r\n",
        "      self.archivo = pd.read_csv(self.link_archivo)\r\n",
        "    except FileNotFoundError:\r\n",
        "      return 'El archivo no se encontro.' \r\n",
        "    else:\r\n",
        "      self.archivo_leido = True\r\n",
        "      return \"El archivo se abrio correctamente.\"\r\n",
        "\r\n",
        "  def obtener_dataframe(self):\r\n",
        "    # Devuelve el dataframe y si no lanza un error que no se leyo el archivo.\r\n",
        "    if self.archivo_leido:\r\n",
        "      return self.archivo\r\n",
        "    return 'No se encuentra un archivo leido.'\r\n",
        "\r\n"
      ],
      "execution_count": null,
      "outputs": []
    },
    {
      "cell_type": "markdown",
      "metadata": {
        "id": "NeqnQJQVdanl"
      },
      "source": [
        "#### Clase UnirDataFrames"
      ]
    },
    {
      "cell_type": "code",
      "metadata": {
        "id": "c8vj6v4odc2Q"
      },
      "source": [
        "class UnirDataFrames:\r\n",
        "  \r\n",
        "  # Clase que recive en el constructor una lista de archivos y los une.\r\n",
        "  def __init__(self, lista_archivos):\r\n",
        "    self.dataframe_final = pd.concat(lista_archivos)\r\n",
        "\r\n",
        "  def obtener_dataframe_final(self):\r\n",
        "    return self.dataframe_final\r\n",
        "\r\n"
      ],
      "execution_count": null,
      "outputs": []
    },
    {
      "cell_type": "markdown",
      "metadata": {
        "id": "difPGy7NXVRu"
      },
      "source": [
        "\r\n",
        "### Pruebas"
      ]
    },
    {
      "cell_type": "markdown",
      "metadata": {
        "id": "8e38JLrPXaHv"
      },
      "source": [
        "#### Prueba 1\r\n",
        "\r\n",
        "Nos fijamos que si se pasa un archivo invalido a la clase Archivo me salta error."
      ]
    },
    {
      "cell_type": "code",
      "metadata": {
        "colab": {
          "base_uri": "https://localhost:8080/",
          "height": 35
        },
        "id": "S4xnk-4uXdKo",
        "outputId": "c708c8bc-adc1-4353-aa23-53a8c9045cff"
      },
      "source": [
        "archivo_prueba_0 = Archivo(\"ewdwed.csv\")\r\n",
        "archivo_prueba_0.leer_archivo()"
      ],
      "execution_count": null,
      "outputs": [
        {
          "output_type": "execute_result",
          "data": {
            "application/vnd.google.colaboratory.intrinsic+json": {
              "type": "string"
            },
            "text/plain": [
              "'El archivo no se encontro.'"
            ]
          },
          "metadata": {
            "tags": []
          },
          "execution_count": 59
        }
      ]
    },
    {
      "cell_type": "markdown",
      "metadata": {
        "id": "pL8Nxch9XpAC"
      },
      "source": [
        "#### Prueba 2\r\n",
        "Nos fijamos que si se recibe un archivo valido lee el archivo correctamente."
      ]
    },
    {
      "cell_type": "code",
      "metadata": {
        "colab": {
          "base_uri": "https://localhost:8080/"
        },
        "id": "Yz4s5aX0XqoK",
        "outputId": "f18a1445-76bb-4e8a-db03-b884b9c031df"
      },
      "source": [
        "archivo_prueba_1 = Archivo(\"https://drive.google.com/u/0/uc?id=1Ms2r2k6DscmL7ymRZp6bXk3Z-RWsqtjz&export=download\")\r\n",
        "print(archivo_prueba_1.leer_archivo())"
      ],
      "execution_count": null,
      "outputs": [
        {
          "output_type": "stream",
          "text": [
            "El archivo se abrio correctamente.\n"
          ],
          "name": "stdout"
        }
      ]
    },
    {
      "cell_type": "markdown",
      "metadata": {
        "id": "n7RipuHYX9AU"
      },
      "source": [
        "#### Prueba 3\r\n",
        "Probamos obtener un archivo que sin leerlo y salta error."
      ]
    },
    {
      "cell_type": "code",
      "metadata": {
        "colab": {
          "base_uri": "https://localhost:8080/"
        },
        "id": "7F-Hta7rX-dk",
        "outputId": "7f1c7ad0-390f-4a55-d591-5544fffbe064"
      },
      "source": [
        "archivo1 = Archivo(\"https://drive.google.com/u/0/uc?id=1Ms2r2k6DscmL7ymRZp6bXk3Z-RWsqtjz&export=download\")\r\n",
        "archivo1.obtener_dataframe()"
      ],
      "execution_count": null,
      "outputs": [
        {
          "output_type": "execute_result",
          "data": {
            "application/vnd.google.colaboratory.intrinsic+json": {
              "type": "string"
            },
            "text/plain": [
              "'No se encuentra un archivo leido.'"
            ]
          },
          "metadata": {
            "tags": []
          },
          "execution_count": 45
        }
      ]
    },
    {
      "cell_type": "markdown",
      "metadata": {
        "id": "uw2qaQSxZ_lS"
      },
      "source": [
        "#### Prueba 4\r\n",
        "Se obtiene el dataframe, una ves que ya se leyo el archivo.\r\n",
        "\r\n"
      ]
    },
    {
      "cell_type": "code",
      "metadata": {
        "colab": {
          "base_uri": "https://localhost:8080/"
        },
        "id": "YTJYmzzAaA9r",
        "outputId": "ed3f63a6-bc2d-4ce4-93a8-18b7a6400231"
      },
      "source": [
        "archivo1 = Archivo(\"https://drive.google.com/u/0/uc?id=1Ms2r2k6DscmL7ymRZp6bXk3Z-RWsqtjz&export=download\")\r\n",
        "archivo1.leer_archivo()\r\n",
        "archivo1.obtener_dataframe()"
      ],
      "execution_count": null,
      "outputs": [
        {
          "output_type": "execute_result",
          "data": {
            "text/html": [
              "<div>\n",
              "<style scoped>\n",
              "    .dataframe tbody tr th:only-of-type {\n",
              "        vertical-align: middle;\n",
              "    }\n",
              "\n",
              "    .dataframe tbody tr th {\n",
              "        vertical-align: top;\n",
              "    }\n",
              "\n",
              "    .dataframe thead th {\n",
              "        text-align: right;\n",
              "    }\n",
              "</style>\n",
              "<table border=\"1\" class=\"dataframe\">\n",
              "  <thead>\n",
              "    <tr style=\"text-align: right;\">\n",
              "      <th></th>\n",
              "      <th>PROVINCIA;MUNICIPIO;ESTACION;MAGNITUD;PUNTO_MUESTREO;ANO;MES;D01;V01;D02;V02;D03;V03;D04;V04;D05;V05;D06;V06;D07;V07;D08;V08;D09;V09;D10;V10;D11;V11;D12;V12;D13;V13;D14;V14;D15;V15;D16;V16;D17;V17;D18;V18;D19;V19;D20;V20;D21;V21;D22;V22;D23;V23;D24;V24;D25;V25;D26;V26;D27;V27;D28;V28;D29;V29;D30;V30;D31;V31</th>\n",
              "    </tr>\n",
              "  </thead>\n",
              "  <tbody>\n",
              "    <tr>\n",
              "      <th>0</th>\n",
              "      <td>28;079;4;1;28079004_1_38;2016;01;00008;V;00007...</td>\n",
              "    </tr>\n",
              "    <tr>\n",
              "      <th>1</th>\n",
              "      <td>28;079;4;1;28079004_1_38;2016;02;00012;V;00013...</td>\n",
              "    </tr>\n",
              "    <tr>\n",
              "      <th>2</th>\n",
              "      <td>28;079;4;1;28079004_1_38;2016;03;00011;V;00010...</td>\n",
              "    </tr>\n",
              "    <tr>\n",
              "      <th>3</th>\n",
              "      <td>28;079;4;1;28079004_1_38;2016;04;00008;V;00009...</td>\n",
              "    </tr>\n",
              "    <tr>\n",
              "      <th>4</th>\n",
              "      <td>28;079;4;1;28079004_1_38;2016;05;00007;V;00008...</td>\n",
              "    </tr>\n",
              "    <tr>\n",
              "      <th>...</th>\n",
              "      <td>...</td>\n",
              "    </tr>\n",
              "    <tr>\n",
              "      <th>1807</th>\n",
              "      <td>28;079;60;14;28079060_14_6;2016;08;00093;V;000...</td>\n",
              "    </tr>\n",
              "    <tr>\n",
              "      <th>1808</th>\n",
              "      <td>28;079;60;14;28079060_14_6;2016;09;00085;V;000...</td>\n",
              "    </tr>\n",
              "    <tr>\n",
              "      <th>1809</th>\n",
              "      <td>28;079;60;14;28079060_14_6;2016;10;00052;V;000...</td>\n",
              "    </tr>\n",
              "    <tr>\n",
              "      <th>1810</th>\n",
              "      <td>28;079;60;14;28079060_14_6;2016;11;00028;V;000...</td>\n",
              "    </tr>\n",
              "    <tr>\n",
              "      <th>1811</th>\n",
              "      <td>28;079;60;14;28079060_14_6;2016;12;00037;V;000...</td>\n",
              "    </tr>\n",
              "  </tbody>\n",
              "</table>\n",
              "<p>1812 rows × 1 columns</p>\n",
              "</div>"
            ],
            "text/plain": [
              "     PROVINCIA;MUNICIPIO;ESTACION;MAGNITUD;PUNTO_MUESTREO;ANO;MES;D01;V01;D02;V02;D03;V03;D04;V04;D05;V05;D06;V06;D07;V07;D08;V08;D09;V09;D10;V10;D11;V11;D12;V12;D13;V13;D14;V14;D15;V15;D16;V16;D17;V17;D18;V18;D19;V19;D20;V20;D21;V21;D22;V22;D23;V23;D24;V24;D25;V25;D26;V26;D27;V27;D28;V28;D29;V29;D30;V30;D31;V31\n",
              "0     28;079;4;1;28079004_1_38;2016;01;00008;V;00007...                                                                                                                                                                                                                                                                  \n",
              "1     28;079;4;1;28079004_1_38;2016;02;00012;V;00013...                                                                                                                                                                                                                                                                  \n",
              "2     28;079;4;1;28079004_1_38;2016;03;00011;V;00010...                                                                                                                                                                                                                                                                  \n",
              "3     28;079;4;1;28079004_1_38;2016;04;00008;V;00009...                                                                                                                                                                                                                                                                  \n",
              "4     28;079;4;1;28079004_1_38;2016;05;00007;V;00008...                                                                                                                                                                                                                                                                  \n",
              "...                                                 ...                                                                                                                                                                                                                                                                  \n",
              "1807  28;079;60;14;28079060_14_6;2016;08;00093;V;000...                                                                                                                                                                                                                                                                  \n",
              "1808  28;079;60;14;28079060_14_6;2016;09;00085;V;000...                                                                                                                                                                                                                                                                  \n",
              "1809  28;079;60;14;28079060_14_6;2016;10;00052;V;000...                                                                                                                                                                                                                                                                  \n",
              "1810  28;079;60;14;28079060_14_6;2016;11;00028;V;000...                                                                                                                                                                                                                                                                  \n",
              "1811  28;079;60;14;28079060_14_6;2016;12;00037;V;000...                                                                                                                                                                                                                                                                  \n",
              "\n",
              "[1812 rows x 1 columns]"
            ]
          },
          "metadata": {
            "tags": []
          },
          "execution_count": 46
        }
      ]
    },
    {
      "cell_type": "markdown",
      "metadata": {
        "id": "VDRpJiQ7btTG"
      },
      "source": [
        "#### Prueba 5\r\n",
        "\r\n",
        "Nos fijamos que se pueda unir los dataframes correctamente."
      ]
    },
    {
      "cell_type": "code",
      "metadata": {
        "colab": {
          "base_uri": "https://localhost:8080/"
        },
        "id": "-h8YTzVyb0ND",
        "outputId": "ab59c33d-ecfb-4e4e-88c4-e3e899400363"
      },
      "source": [
        "# Archivo 1\r\n",
        "archivo1 = Archivo(\"https://drive.google.com/u/0/uc?id=1Ms2r2k6DscmL7ymRZp6bXk3Z-RWsqtjz&export=download\")\r\n",
        "archivo1.leer_archivo()\r\n",
        "# Archivo 2\r\n",
        "archivo2 = Archivo(\"https://drive.google.com/u/0/uc?id=1Ms2r2k6DscmL7ymRZp6bXk3Z-RWsqtjz&export=download\")\r\n",
        "archivo2.leer_archivo()\r\n",
        "# Archivo 3\r\n",
        "archivo3 = Archivo(\"https://drive.google.com/u/0/uc?id=1Ms2r2k6DscmL7ymRZp6bXk3Z-RWsqtjz&export=download\")\r\n",
        "archivo3.leer_archivo()\r\n",
        "# Archivo 4\r\n",
        "archivo4 = Archivo(\"https://drive.google.com/u/0/uc?id=1Ms2r2k6DscmL7ymRZp6bXk3Z-RWsqtjz&export=download\")\r\n",
        "archivo4.leer_archivo()\r\n",
        "\r\n",
        "union_dfs = UnirDataFrames([archivo1.obtener_dataframe(), archivo2.obtener_dataframe(), archivo3.obtener_dataframe(), archivo4.obtener_dataframe()])\r\n",
        "union_dfs.obtener_dataframe_final()"
      ],
      "execution_count": null,
      "outputs": [
        {
          "output_type": "execute_result",
          "data": {
            "text/html": [
              "<div>\n",
              "<style scoped>\n",
              "    .dataframe tbody tr th:only-of-type {\n",
              "        vertical-align: middle;\n",
              "    }\n",
              "\n",
              "    .dataframe tbody tr th {\n",
              "        vertical-align: top;\n",
              "    }\n",
              "\n",
              "    .dataframe thead th {\n",
              "        text-align: right;\n",
              "    }\n",
              "</style>\n",
              "<table border=\"1\" class=\"dataframe\">\n",
              "  <thead>\n",
              "    <tr style=\"text-align: right;\">\n",
              "      <th></th>\n",
              "      <th>PROVINCIA;MUNICIPIO;ESTACION;MAGNITUD;PUNTO_MUESTREO;ANO;MES;D01;V01;D02;V02;D03;V03;D04;V04;D05;V05;D06;V06;D07;V07;D08;V08;D09;V09;D10;V10;D11;V11;D12;V12;D13;V13;D14;V14;D15;V15;D16;V16;D17;V17;D18;V18;D19;V19;D20;V20;D21;V21;D22;V22;D23;V23;D24;V24;D25;V25;D26;V26;D27;V27;D28;V28;D29;V29;D30;V30;D31;V31</th>\n",
              "    </tr>\n",
              "  </thead>\n",
              "  <tbody>\n",
              "    <tr>\n",
              "      <th>0</th>\n",
              "      <td>28;079;4;1;28079004_1_38;2016;01;00008;V;00007...</td>\n",
              "    </tr>\n",
              "    <tr>\n",
              "      <th>1</th>\n",
              "      <td>28;079;4;1;28079004_1_38;2016;02;00012;V;00013...</td>\n",
              "    </tr>\n",
              "    <tr>\n",
              "      <th>2</th>\n",
              "      <td>28;079;4;1;28079004_1_38;2016;03;00011;V;00010...</td>\n",
              "    </tr>\n",
              "    <tr>\n",
              "      <th>3</th>\n",
              "      <td>28;079;4;1;28079004_1_38;2016;04;00008;V;00009...</td>\n",
              "    </tr>\n",
              "    <tr>\n",
              "      <th>4</th>\n",
              "      <td>28;079;4;1;28079004_1_38;2016;05;00007;V;00008...</td>\n",
              "    </tr>\n",
              "    <tr>\n",
              "      <th>...</th>\n",
              "      <td>...</td>\n",
              "    </tr>\n",
              "    <tr>\n",
              "      <th>1807</th>\n",
              "      <td>28;079;60;14;28079060_14_6;2016;08;00093;V;000...</td>\n",
              "    </tr>\n",
              "    <tr>\n",
              "      <th>1808</th>\n",
              "      <td>28;079;60;14;28079060_14_6;2016;09;00085;V;000...</td>\n",
              "    </tr>\n",
              "    <tr>\n",
              "      <th>1809</th>\n",
              "      <td>28;079;60;14;28079060_14_6;2016;10;00052;V;000...</td>\n",
              "    </tr>\n",
              "    <tr>\n",
              "      <th>1810</th>\n",
              "      <td>28;079;60;14;28079060_14_6;2016;11;00028;V;000...</td>\n",
              "    </tr>\n",
              "    <tr>\n",
              "      <th>1811</th>\n",
              "      <td>28;079;60;14;28079060_14_6;2016;12;00037;V;000...</td>\n",
              "    </tr>\n",
              "  </tbody>\n",
              "</table>\n",
              "<p>7248 rows × 1 columns</p>\n",
              "</div>"
            ],
            "text/plain": [
              "     PROVINCIA;MUNICIPIO;ESTACION;MAGNITUD;PUNTO_MUESTREO;ANO;MES;D01;V01;D02;V02;D03;V03;D04;V04;D05;V05;D06;V06;D07;V07;D08;V08;D09;V09;D10;V10;D11;V11;D12;V12;D13;V13;D14;V14;D15;V15;D16;V16;D17;V17;D18;V18;D19;V19;D20;V20;D21;V21;D22;V22;D23;V23;D24;V24;D25;V25;D26;V26;D27;V27;D28;V28;D29;V29;D30;V30;D31;V31\n",
              "0     28;079;4;1;28079004_1_38;2016;01;00008;V;00007...                                                                                                                                                                                                                                                                  \n",
              "1     28;079;4;1;28079004_1_38;2016;02;00012;V;00013...                                                                                                                                                                                                                                                                  \n",
              "2     28;079;4;1;28079004_1_38;2016;03;00011;V;00010...                                                                                                                                                                                                                                                                  \n",
              "3     28;079;4;1;28079004_1_38;2016;04;00008;V;00009...                                                                                                                                                                                                                                                                  \n",
              "4     28;079;4;1;28079004_1_38;2016;05;00007;V;00008...                                                                                                                                                                                                                                                                  \n",
              "...                                                 ...                                                                                                                                                                                                                                                                  \n",
              "1807  28;079;60;14;28079060_14_6;2016;08;00093;V;000...                                                                                                                                                                                                                                                                  \n",
              "1808  28;079;60;14;28079060_14_6;2016;09;00085;V;000...                                                                                                                                                                                                                                                                  \n",
              "1809  28;079;60;14;28079060_14_6;2016;10;00052;V;000...                                                                                                                                                                                                                                                                  \n",
              "1810  28;079;60;14;28079060_14_6;2016;11;00028;V;000...                                                                                                                                                                                                                                                                  \n",
              "1811  28;079;60;14;28079060_14_6;2016;12;00037;V;000...                                                                                                                                                                                                                                                                  \n",
              "\n",
              "[7248 rows x 1 columns]"
            ]
          },
          "metadata": {
            "tags": []
          },
          "execution_count": 47
        }
      ]
    },
    {
      "cell_type": "markdown",
      "metadata": {
        "id": "-IlTLqlwYpIY"
      },
      "source": [
        "### Soluciones Ejercicios"
      ]
    },
    {
      "cell_type": "markdown",
      "metadata": {
        "id": "5ogp-K-ldCXJ"
      },
      "source": [
        "#### Ejercicio 1"
      ]
    },
    {
      "cell_type": "code",
      "metadata": {
        "colab": {
          "base_uri": "https://localhost:8080/"
        },
        "id": "ojFfHqJCYukW",
        "outputId": "8b6e37c0-141a-4992-e52c-2eb3d9500cf7"
      },
      "source": [
        "# Archivo 1\r\n",
        "archivo1 = Archivo(\"https://drive.google.com/u/0/uc?id=1Ms2r2k6DscmL7ymRZp6bXk3Z-RWsqtjz&export=download\")\r\n",
        "archivo1.leer_archivo()\r\n",
        "# Archivo 2\r\n",
        "archivo2 = Archivo(\"https://drive.google.com/u/0/uc?id=1Ms2r2k6DscmL7ymRZp6bXk3Z-RWsqtjz&export=download\")\r\n",
        "archivo2.leer_archivo()\r\n",
        "# Archivo 3\r\n",
        "archivo3 = Archivo(\"https://drive.google.com/u/0/uc?id=1Ms2r2k6DscmL7ymRZp6bXk3Z-RWsqtjz&export=download\")\r\n",
        "archivo3.leer_archivo()\r\n",
        "# Archivo 4\r\n",
        "archivo4 = Archivo(\"https://drive.google.com/u/0/uc?id=1Ms2r2k6DscmL7ymRZp6bXk3Z-RWsqtjz&export=download\")\r\n",
        "archivo4.leer_archivo()\r\n",
        "\r\n",
        "union_dfs = UnirDataFrames([archivo1.obtener_dataframe(), archivo2.obtener_dataframe(), archivo3.obtener_dataframe(), archivo4.obtener_dataframe()])\r\n",
        "union_dfs.obtener_dataframe_final()"
      ],
      "execution_count": null,
      "outputs": [
        {
          "output_type": "execute_result",
          "data": {
            "text/html": [
              "<div>\n",
              "<style scoped>\n",
              "    .dataframe tbody tr th:only-of-type {\n",
              "        vertical-align: middle;\n",
              "    }\n",
              "\n",
              "    .dataframe tbody tr th {\n",
              "        vertical-align: top;\n",
              "    }\n",
              "\n",
              "    .dataframe thead th {\n",
              "        text-align: right;\n",
              "    }\n",
              "</style>\n",
              "<table border=\"1\" class=\"dataframe\">\n",
              "  <thead>\n",
              "    <tr style=\"text-align: right;\">\n",
              "      <th></th>\n",
              "      <th>PROVINCIA;MUNICIPIO;ESTACION;MAGNITUD;PUNTO_MUESTREO;ANO;MES;D01;V01;D02;V02;D03;V03;D04;V04;D05;V05;D06;V06;D07;V07;D08;V08;D09;V09;D10;V10;D11;V11;D12;V12;D13;V13;D14;V14;D15;V15;D16;V16;D17;V17;D18;V18;D19;V19;D20;V20;D21;V21;D22;V22;D23;V23;D24;V24;D25;V25;D26;V26;D27;V27;D28;V28;D29;V29;D30;V30;D31;V31</th>\n",
              "    </tr>\n",
              "  </thead>\n",
              "  <tbody>\n",
              "    <tr>\n",
              "      <th>0</th>\n",
              "      <td>28;079;4;1;28079004_1_38;2016;01;00008;V;00007...</td>\n",
              "    </tr>\n",
              "    <tr>\n",
              "      <th>1</th>\n",
              "      <td>28;079;4;1;28079004_1_38;2016;02;00012;V;00013...</td>\n",
              "    </tr>\n",
              "    <tr>\n",
              "      <th>2</th>\n",
              "      <td>28;079;4;1;28079004_1_38;2016;03;00011;V;00010...</td>\n",
              "    </tr>\n",
              "    <tr>\n",
              "      <th>3</th>\n",
              "      <td>28;079;4;1;28079004_1_38;2016;04;00008;V;00009...</td>\n",
              "    </tr>\n",
              "    <tr>\n",
              "      <th>4</th>\n",
              "      <td>28;079;4;1;28079004_1_38;2016;05;00007;V;00008...</td>\n",
              "    </tr>\n",
              "    <tr>\n",
              "      <th>...</th>\n",
              "      <td>...</td>\n",
              "    </tr>\n",
              "    <tr>\n",
              "      <th>1807</th>\n",
              "      <td>28;079;60;14;28079060_14_6;2016;08;00093;V;000...</td>\n",
              "    </tr>\n",
              "    <tr>\n",
              "      <th>1808</th>\n",
              "      <td>28;079;60;14;28079060_14_6;2016;09;00085;V;000...</td>\n",
              "    </tr>\n",
              "    <tr>\n",
              "      <th>1809</th>\n",
              "      <td>28;079;60;14;28079060_14_6;2016;10;00052;V;000...</td>\n",
              "    </tr>\n",
              "    <tr>\n",
              "      <th>1810</th>\n",
              "      <td>28;079;60;14;28079060_14_6;2016;11;00028;V;000...</td>\n",
              "    </tr>\n",
              "    <tr>\n",
              "      <th>1811</th>\n",
              "      <td>28;079;60;14;28079060_14_6;2016;12;00037;V;000...</td>\n",
              "    </tr>\n",
              "  </tbody>\n",
              "</table>\n",
              "<p>7248 rows × 1 columns</p>\n",
              "</div>"
            ],
            "text/plain": [
              "     PROVINCIA;MUNICIPIO;ESTACION;MAGNITUD;PUNTO_MUESTREO;ANO;MES;D01;V01;D02;V02;D03;V03;D04;V04;D05;V05;D06;V06;D07;V07;D08;V08;D09;V09;D10;V10;D11;V11;D12;V12;D13;V13;D14;V14;D15;V15;D16;V16;D17;V17;D18;V18;D19;V19;D20;V20;D21;V21;D22;V22;D23;V23;D24;V24;D25;V25;D26;V26;D27;V27;D28;V28;D29;V29;D30;V30;D31;V31\n",
              "0     28;079;4;1;28079004_1_38;2016;01;00008;V;00007...                                                                                                                                                                                                                                                                  \n",
              "1     28;079;4;1;28079004_1_38;2016;02;00012;V;00013...                                                                                                                                                                                                                                                                  \n",
              "2     28;079;4;1;28079004_1_38;2016;03;00011;V;00010...                                                                                                                                                                                                                                                                  \n",
              "3     28;079;4;1;28079004_1_38;2016;04;00008;V;00009...                                                                                                                                                                                                                                                                  \n",
              "4     28;079;4;1;28079004_1_38;2016;05;00007;V;00008...                                                                                                                                                                                                                                                                  \n",
              "...                                                 ...                                                                                                                                                                                                                                                                  \n",
              "1807  28;079;60;14;28079060_14_6;2016;08;00093;V;000...                                                                                                                                                                                                                                                                  \n",
              "1808  28;079;60;14;28079060_14_6;2016;09;00085;V;000...                                                                                                                                                                                                                                                                  \n",
              "1809  28;079;60;14;28079060_14_6;2016;10;00052;V;000...                                                                                                                                                                                                                                                                  \n",
              "1810  28;079;60;14;28079060_14_6;2016;11;00028;V;000...                                                                                                                                                                                                                                                                  \n",
              "1811  28;079;60;14;28079060_14_6;2016;12;00037;V;000...                                                                                                                                                                                                                                                                  \n",
              "\n",
              "[7248 rows x 1 columns]"
            ]
          },
          "metadata": {
            "tags": []
          },
          "execution_count": 48
        }
      ]
    }
  ]
}